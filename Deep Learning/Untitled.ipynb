{
 "cells": [
  {
   "cell_type": "code",
   "execution_count": 1,
   "id": "bf3aec04-c811-4eca-93dc-bcdb03490745",
   "metadata": {},
   "outputs": [
    {
     "ename": "ModuleNotFoundError",
     "evalue": "No module named 'torch'",
     "output_type": "error",
     "traceback": [
      "\u001b[1;31m---------------------------------------------------------------------------\u001b[0m",
      "\u001b[1;31mModuleNotFoundError\u001b[0m                       Traceback (most recent call last)",
      "Cell \u001b[1;32mIn[1], line 1\u001b[0m\n\u001b[1;32m----> 1\u001b[0m \u001b[38;5;28;01mimport\u001b[39;00m \u001b[38;5;21;01mtorch\u001b[39;00m\n",
      "\u001b[1;31mModuleNotFoundError\u001b[0m: No module named 'torch'"
     ]
    }
   ],
   "source": [
    "import torch\n",
    "oneD = torch.tensor([1,2,3])\n",
    "twoD = torch.tensor([1,2,3],\n",
    "                    [4,5,6])\n",
    "threeD = torch.tensor([1,2,3],\n",
    "                      [4,5,6],\n",
    "                      [7,8,9])\n",
    "ones = torch.ones([1,2])\n",
    "zeros = torch.zeros([1,2])"
   ]
  },
  {
   "cell_type": "code",
   "execution_count": null,
   "id": "2e81ac20-c6bf-4ed7-8874-eef76fd78539",
   "metadata": {},
   "outputs": [],
   "source": []
  }
 ],
 "metadata": {
  "kernelspec": {
   "display_name": "Python 3 (ipykernel)",
   "language": "python",
   "name": "python3"
  },
  "language_info": {
   "codemirror_mode": {
    "name": "ipython",
    "version": 3
   },
   "file_extension": ".py",
   "mimetype": "text/x-python",
   "name": "python",
   "nbconvert_exporter": "python",
   "pygments_lexer": "ipython3",
   "version": "3.12.4"
  }
 },
 "nbformat": 4,
 "nbformat_minor": 5
}
